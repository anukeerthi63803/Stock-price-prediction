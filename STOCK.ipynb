{
 "cells": [
  {
   "cell_type": "markdown",
   "id": "361a8bac",
   "metadata": {},
   "source": [
    "# Stock Price Prediction Using LSTM"
   ]
  },
  {
   "cell_type": "markdown",
   "id": "7b33caaf",
   "metadata": {},
   "source": [
    "Predicting stock prices is an uncertain task using machine learning. There are a lot of tools used for stock market prediction. The stock market is considered to be dynamic and complex. This article will discuss the LSTM Network, one of the popular deep learning techniques used in stock price prediction. In this article, we will fetch the historical data of stock automatically using python libraries and fit the LSTM model on this data to predict the future prices of the store."
   ]
  },
  {
   "cell_type": "code",
   "execution_count": 53,
   "id": "fb80d8c1",
   "metadata": {},
   "outputs": [],
   "source": [
    "import numpy as np\n",
    "import pandas as pd\n",
    "import matplotlib.pyplot as plt\n",
    "import yfinance as yf\n",
    "from sklearn.preprocessing import MinMaxScaler\n",
    "from sklearn.metrics import mean_squared_error\n",
    "from keras.models import Sequential\n",
    "from keras.layers import LSTM, Dense"
   ]
  },
  {
   "cell_type": "markdown",
   "id": "e9fe2524",
   "metadata": {},
   "source": [
    "The yfinance library allows you to easily fetch historical stock price data for a specific stock symbol. You need to provide the stock symbol, start date, and end date for the historical data you want to fetch"
   ]
  },
  {
   "cell_type": "code",
   "execution_count": 54,
   "id": "bf294f64",
   "metadata": {},
   "outputs": [
    {
     "name": "stdout",
     "output_type": "stream",
     "text": [
      "[*********************100%%**********************]  1 of 1 completed\n"
     ]
    }
   ],
   "source": [
    "# Define the stock symbol and fetch historical data using yfinance\n",
    "stock_symbol = 'AAPL'  # Replace with the desired stock symbol\n",
    "start_date = '2010-01-01'\n",
    "end_date = '2023-01-01'\n",
    "stock_data = yf.download(stock_symbol, start=start_date, end=end_date)"
   ]
  },
  {
   "cell_type": "markdown",
   "id": "257ae448",
   "metadata": {},
   "source": [
    "Otherwise,you can click the below link to see the dataset"
   ]
  },
  {
   "cell_type": "markdown",
   "id": "e43b66cb",
   "metadata": {},
   "source": [
    "__[CLICK for the DATASET](https://finance.yahoo.com/quote/AAPL/history?p=AAPL)__"
   ]
  },
  {
   "cell_type": "code",
   "execution_count": 24,
   "id": "edb7975b",
   "metadata": {},
   "outputs": [
    {
     "data": {
      "text/html": [
       "<div>\n",
       "<style scoped>\n",
       "    .dataframe tbody tr th:only-of-type {\n",
       "        vertical-align: middle;\n",
       "    }\n",
       "\n",
       "    .dataframe tbody tr th {\n",
       "        vertical-align: top;\n",
       "    }\n",
       "\n",
       "    .dataframe thead th {\n",
       "        text-align: right;\n",
       "    }\n",
       "</style>\n",
       "<table border=\"1\" class=\"dataframe\">\n",
       "  <thead>\n",
       "    <tr style=\"text-align: right;\">\n",
       "      <th></th>\n",
       "      <th>Date</th>\n",
       "      <th>Open</th>\n",
       "      <th>High</th>\n",
       "      <th>Low</th>\n",
       "      <th>Close</th>\n",
       "      <th>Adj Close</th>\n",
       "      <th>Volume</th>\n",
       "    </tr>\n",
       "  </thead>\n",
       "  <tbody>\n",
       "    <tr>\n",
       "      <th>0</th>\n",
       "      <td>2022-08-26</td>\n",
       "      <td>170.570007</td>\n",
       "      <td>171.050003</td>\n",
       "      <td>163.559998</td>\n",
       "      <td>163.619995</td>\n",
       "      <td>162.655060</td>\n",
       "      <td>78961000</td>\n",
       "    </tr>\n",
       "    <tr>\n",
       "      <th>1</th>\n",
       "      <td>2022-08-29</td>\n",
       "      <td>161.149994</td>\n",
       "      <td>162.899994</td>\n",
       "      <td>159.820007</td>\n",
       "      <td>161.380005</td>\n",
       "      <td>160.428268</td>\n",
       "      <td>73314000</td>\n",
       "    </tr>\n",
       "    <tr>\n",
       "      <th>2</th>\n",
       "      <td>2022-08-30</td>\n",
       "      <td>162.130005</td>\n",
       "      <td>162.559998</td>\n",
       "      <td>157.720001</td>\n",
       "      <td>158.910004</td>\n",
       "      <td>157.972855</td>\n",
       "      <td>77906200</td>\n",
       "    </tr>\n",
       "    <tr>\n",
       "      <th>3</th>\n",
       "      <td>2022-08-31</td>\n",
       "      <td>160.309998</td>\n",
       "      <td>160.580002</td>\n",
       "      <td>157.139999</td>\n",
       "      <td>157.220001</td>\n",
       "      <td>156.292816</td>\n",
       "      <td>87991100</td>\n",
       "    </tr>\n",
       "    <tr>\n",
       "      <th>4</th>\n",
       "      <td>2022-09-01</td>\n",
       "      <td>156.639999</td>\n",
       "      <td>158.419998</td>\n",
       "      <td>154.669998</td>\n",
       "      <td>157.960007</td>\n",
       "      <td>157.028458</td>\n",
       "      <td>74229900</td>\n",
       "    </tr>\n",
       "    <tr>\n",
       "      <th>5</th>\n",
       "      <td>2022-09-02</td>\n",
       "      <td>159.750000</td>\n",
       "      <td>160.360001</td>\n",
       "      <td>154.970001</td>\n",
       "      <td>155.809998</td>\n",
       "      <td>154.891113</td>\n",
       "      <td>76957800</td>\n",
       "    </tr>\n",
       "    <tr>\n",
       "      <th>6</th>\n",
       "      <td>2022-09-06</td>\n",
       "      <td>156.470001</td>\n",
       "      <td>157.089996</td>\n",
       "      <td>153.690002</td>\n",
       "      <td>154.529999</td>\n",
       "      <td>153.618683</td>\n",
       "      <td>73714800</td>\n",
       "    </tr>\n",
       "    <tr>\n",
       "      <th>7</th>\n",
       "      <td>2022-09-07</td>\n",
       "      <td>154.820007</td>\n",
       "      <td>156.669998</td>\n",
       "      <td>153.610001</td>\n",
       "      <td>155.960007</td>\n",
       "      <td>155.040237</td>\n",
       "      <td>87449600</td>\n",
       "    </tr>\n",
       "    <tr>\n",
       "      <th>8</th>\n",
       "      <td>2022-09-08</td>\n",
       "      <td>154.639999</td>\n",
       "      <td>156.360001</td>\n",
       "      <td>152.679993</td>\n",
       "      <td>154.460007</td>\n",
       "      <td>153.549088</td>\n",
       "      <td>84923800</td>\n",
       "    </tr>\n",
       "    <tr>\n",
       "      <th>9</th>\n",
       "      <td>2022-09-09</td>\n",
       "      <td>155.470001</td>\n",
       "      <td>157.820007</td>\n",
       "      <td>154.750000</td>\n",
       "      <td>157.369995</td>\n",
       "      <td>156.441910</td>\n",
       "      <td>68028800</td>\n",
       "    </tr>\n",
       "  </tbody>\n",
       "</table>\n",
       "</div>"
      ],
      "text/plain": [
       "         Date        Open        High         Low       Close   Adj Close  \\\n",
       "0  2022-08-26  170.570007  171.050003  163.559998  163.619995  162.655060   \n",
       "1  2022-08-29  161.149994  162.899994  159.820007  161.380005  160.428268   \n",
       "2  2022-08-30  162.130005  162.559998  157.720001  158.910004  157.972855   \n",
       "3  2022-08-31  160.309998  160.580002  157.139999  157.220001  156.292816   \n",
       "4  2022-09-01  156.639999  158.419998  154.669998  157.960007  157.028458   \n",
       "5  2022-09-02  159.750000  160.360001  154.970001  155.809998  154.891113   \n",
       "6  2022-09-06  156.470001  157.089996  153.690002  154.529999  153.618683   \n",
       "7  2022-09-07  154.820007  156.669998  153.610001  155.960007  155.040237   \n",
       "8  2022-09-08  154.639999  156.360001  152.679993  154.460007  153.549088   \n",
       "9  2022-09-09  155.470001  157.820007  154.750000  157.369995  156.441910   \n",
       "\n",
       "     Volume  \n",
       "0  78961000  \n",
       "1  73314000  \n",
       "2  77906200  \n",
       "3  87991100  \n",
       "4  74229900  \n",
       "5  76957800  \n",
       "6  73714800  \n",
       "7  87449600  \n",
       "8  84923800  \n",
       "9  68028800  "
      ]
     },
     "execution_count": 24,
     "metadata": {},
     "output_type": "execute_result"
    }
   ],
   "source": [
    "df=pd.read_csv(\"C:\\\\Users\\\\sharanji\\\\Downloads\\\\AAPL.csv\")\n",
    "df.head(10)"
   ]
  },
  {
   "cell_type": "code",
   "execution_count": 55,
   "id": "c8c29b75",
   "metadata": {},
   "outputs": [],
   "source": [
    "# Extract the 'Close' prices\n",
    "stock_prices = stock_data['Close'].values.reshape(-1, 1)"
   ]
  },
  {
   "cell_type": "code",
   "execution_count": 56,
   "id": "9a9a5b74",
   "metadata": {},
   "outputs": [],
   "source": [
    "# Normalize the data\n",
    "scaler = MinMaxScaler()\n",
    "stock_prices_scaled = scaler.fit_transform(stock_prices)"
   ]
  },
  {
   "cell_type": "code",
   "execution_count": 57,
   "id": "f04554d9",
   "metadata": {},
   "outputs": [],
   "source": [
    "# Split the data into training and testing sets\n",
    "train_size = int(len(stock_prices_scaled) * 0.8)\n",
    "train_data = stock_prices_scaled[:train_size]\n",
    "test_data = stock_prices_scaled[train_size:]"
   ]
  },
  {
   "cell_type": "code",
   "execution_count": 58,
   "id": "1c79ce8a",
   "metadata": {},
   "outputs": [],
   "source": [
    "# Create sequences for LSTM training\n",
    "def create_sequences(data, seq_length):\n",
    "    X, y = [], []\n",
    "    for i in range(len(data) - seq_length):\n",
    "        X.append(data[i:i+seq_length])\n",
    "        y.append(data[i+seq_length])\n",
    "    return np.array(X), np.array(y)\n",
    "\n",
    "seq_length = 10  # Length of the input sequences\n",
    "X_train, y_train = create_sequences(train_data, seq_length)\n",
    "X_test, y_test = create_sequences(test_data, seq_length)"
   ]
  },
  {
   "cell_type": "code",
   "execution_count": 59,
   "id": "b76c0c80",
   "metadata": {},
   "outputs": [],
   "source": [
    "# Reshape input data for LSTM\n",
    "X_train = np.reshape(X_train, (X_train.shape[0], X_train.shape[1], 1))"
   ]
  },
  {
   "cell_type": "code",
   "execution_count": 60,
   "id": "453ba72c",
   "metadata": {},
   "outputs": [],
   "source": [
    "# Build the LSTM model\n",
    "model = Sequential()\n",
    "model.add(LSTM(50, input_shape=(seq_length, 1)))\n",
    "model.add(Dense(1))\n",
    "model.compile(optimizer='adam', loss='mean_squared_error')"
   ]
  },
  {
   "cell_type": "code",
   "execution_count": 61,
   "id": "882f313e",
   "metadata": {},
   "outputs": [
    {
     "name": "stdout",
     "output_type": "stream",
     "text": [
      "Epoch 1/50\n"
     ]
    },
    {
     "name": "stderr",
     "output_type": "stream",
     "text": [
      "C:\\Users\\sharanji\\anaconda3\\lib\\site-packages\\tensorflow\\python\\data\\ops\\structured_function.py:265: UserWarning: Even though the `tf.config.experimental_run_functions_eagerly` option is set, this option does not apply to tf.data functions. To force eager execution of tf.data functions, please use `tf.data.experimental.enable_debug_mode()`.\n",
      "  warnings.warn(\n"
     ]
    },
    {
     "name": "stdout",
     "output_type": "stream",
     "text": [
      "82/82 [==============================] - 11s 130ms/step - loss: 0.0022\n",
      "Epoch 2/50\n",
      "82/82 [==============================] - 10s 125ms/step - loss: 5.8726e-05\n",
      "Epoch 3/50\n",
      "82/82 [==============================] - 11s 129ms/step - loss: 5.4749e-05\n",
      "Epoch 4/50\n",
      "82/82 [==============================] - 11s 128ms/step - loss: 5.2571e-05\n",
      "Epoch 5/50\n",
      "82/82 [==============================] - 10s 126ms/step - loss: 4.9928e-05\n",
      "Epoch 6/50\n",
      "82/82 [==============================] - 11s 129ms/step - loss: 4.9660e-05\n",
      "Epoch 7/50\n",
      "82/82 [==============================] - 10s 125ms/step - loss: 4.8433e-05\n",
      "Epoch 8/50\n",
      "82/82 [==============================] - 11s 129ms/step - loss: 5.0784e-05\n",
      "Epoch 9/50\n",
      "82/82 [==============================] - 10s 126ms/step - loss: 4.7757e-05\n",
      "Epoch 10/50\n",
      "82/82 [==============================] - 10s 123ms/step - loss: 4.7166e-05\n",
      "Epoch 11/50\n",
      "82/82 [==============================] - 10s 126ms/step - loss: 4.9526e-05\n",
      "Epoch 12/50\n",
      "82/82 [==============================] - 10s 125ms/step - loss: 4.4738e-05\n",
      "Epoch 13/50\n",
      "82/82 [==============================] - 11s 129ms/step - loss: 4.6094e-05\n",
      "Epoch 14/50\n",
      "82/82 [==============================] - 10s 126ms/step - loss: 4.4522e-05\n",
      "Epoch 15/50\n",
      "82/82 [==============================] - 11s 137ms/step - loss: 4.4132e-05\n",
      "Epoch 16/50\n",
      "82/82 [==============================] - 11s 130ms/step - loss: 4.1797e-05\n",
      "Epoch 17/50\n",
      "82/82 [==============================] - 11s 132ms/step - loss: 4.2863e-05\n",
      "Epoch 18/50\n",
      "82/82 [==============================] - 10s 123ms/step - loss: 4.5004e-05\n",
      "Epoch 19/50\n",
      "82/82 [==============================] - 10s 126ms/step - loss: 4.1685e-05\n",
      "Epoch 20/50\n",
      "82/82 [==============================] - 10s 124ms/step - loss: 4.4515e-05\n",
      "Epoch 21/50\n",
      "82/82 [==============================] - 13s 153ms/step - loss: 4.2803e-05\n",
      "Epoch 22/50\n",
      "82/82 [==============================] - 10s 125ms/step - loss: 3.8079e-05\n",
      "Epoch 23/50\n",
      "82/82 [==============================] - 10s 121ms/step - loss: 3.6045e-05\n",
      "Epoch 24/50\n",
      "82/82 [==============================] - 11s 137ms/step - loss: 3.7507e-05\n",
      "Epoch 25/50\n",
      "82/82 [==============================] - 11s 129ms/step - loss: 3.5485e-05\n",
      "Epoch 26/50\n",
      "82/82 [==============================] - 10s 128ms/step - loss: 3.3720e-05\n",
      "Epoch 27/50\n",
      "82/82 [==============================] - 10s 125ms/step - loss: 3.5628e-05\n",
      "Epoch 28/50\n",
      "82/82 [==============================] - 10s 124ms/step - loss: 3.4617e-05\n",
      "Epoch 29/50\n",
      "82/82 [==============================] - 10s 126ms/step - loss: 3.3955e-05\n",
      "Epoch 30/50\n",
      "82/82 [==============================] - 10s 124ms/step - loss: 3.4617e-05\n",
      "Epoch 31/50\n",
      "82/82 [==============================] - 10s 125ms/step - loss: 3.1952e-05\n",
      "Epoch 32/50\n",
      "82/82 [==============================] - 11s 129ms/step - loss: 3.3075e-05\n",
      "Epoch 33/50\n",
      "82/82 [==============================] - 10s 126ms/step - loss: 3.0843e-05\n",
      "Epoch 34/50\n",
      "82/82 [==============================] - 11s 130ms/step - loss: 2.9761e-05\n",
      "Epoch 35/50\n",
      "82/82 [==============================] - 10s 125ms/step - loss: 2.9386e-05\n",
      "Epoch 36/50\n",
      "82/82 [==============================] - 10s 123ms/step - loss: 2.8174e-05\n",
      "Epoch 37/50\n",
      "82/82 [==============================] - 10s 124ms/step - loss: 3.2510e-05\n",
      "Epoch 38/50\n",
      "82/82 [==============================] - 10s 126ms/step - loss: 3.5948e-05\n",
      "Epoch 39/50\n",
      "82/82 [==============================] - 10s 123ms/step - loss: 2.6311e-05\n",
      "Epoch 40/50\n",
      "82/82 [==============================] - 10s 120ms/step - loss: 3.0195e-05\n",
      "Epoch 41/50\n",
      "82/82 [==============================] - 11s 128ms/step - loss: 2.5122e-05\n",
      "Epoch 42/50\n",
      "82/82 [==============================] - 11s 131ms/step - loss: 2.4621e-05\n",
      "Epoch 43/50\n",
      "82/82 [==============================] - 11s 134ms/step - loss: 2.5635e-05\n",
      "Epoch 44/50\n",
      "82/82 [==============================] - 11s 134ms/step - loss: 2.6020e-05\n",
      "Epoch 45/50\n",
      "82/82 [==============================] - 10s 125ms/step - loss: 2.3366e-05\n",
      "Epoch 46/50\n",
      "82/82 [==============================] - 10s 123ms/step - loss: 2.3689e-05\n",
      "Epoch 47/50\n",
      "82/82 [==============================] - 11s 129ms/step - loss: 2.5287e-05\n",
      "Epoch 48/50\n",
      "82/82 [==============================] - 11s 139ms/step - loss: 2.3708e-05\n",
      "Epoch 49/50\n",
      "82/82 [==============================] - 14s 167ms/step - loss: 2.4767e-05\n",
      "Epoch 50/50\n",
      "82/82 [==============================] - 14s 168ms/step - loss: 2.2790e-05\n"
     ]
    },
    {
     "data": {
      "text/plain": [
       "<keras.src.callbacks.History at 0x1bf6acaa070>"
      ]
     },
     "execution_count": 61,
     "metadata": {},
     "output_type": "execute_result"
    }
   ],
   "source": [
    "# Train the model\n",
    "model.fit(X_train, y_train, epochs=50, batch_size=32)"
   ]
  },
  {
   "cell_type": "code",
   "execution_count": 62,
   "id": "32914f4d",
   "metadata": {},
   "outputs": [
    {
     "name": "stdout",
     "output_type": "stream",
     "text": [
      "82/82 [==============================] - 4s 46ms/step\n",
      "21/21 [==============================] - 1s 46ms/step\n"
     ]
    }
   ],
   "source": [
    "# Predict stock prices\n",
    "train_predict = model.predict(X_train)\n",
    "test_predict = model.predict(X_test)"
   ]
  },
  {
   "cell_type": "code",
   "execution_count": 63,
   "id": "8696818b",
   "metadata": {},
   "outputs": [],
   "source": [
    "# Inverse transform to get actual stock prices\n",
    "train_predict = scaler.inverse_transform(train_predict)\n",
    "y_train_actual = scaler.inverse_transform(y_train)\n",
    "test_predict = scaler.inverse_transform(test_predict)\n",
    "y_test_actual = scaler.inverse_transform(y_test)"
   ]
  },
  {
   "cell_type": "code",
   "execution_count": 64,
   "id": "2a977c5c",
   "metadata": {},
   "outputs": [
    {
     "name": "stdout",
     "output_type": "stream",
     "text": [
      "Training RMSE: 0.791896283148772\n",
      "Testing RMSE: 3.4865973757375825\n"
     ]
    }
   ],
   "source": [
    "# Calculate RMSE\n",
    "train_rmse = np.sqrt(mean_squared_error(y_train_actual, train_predict))\n",
    "test_rmse = np.sqrt(mean_squared_error(y_test_actual, test_predict))\n",
    "print(f'Training RMSE: {train_rmse}')\n",
    "print(f'Testing RMSE: {test_rmse}')"
   ]
  },
  {
   "cell_type": "code",
   "execution_count": 66,
   "id": "7e63c471",
   "metadata": {},
   "outputs": [
    {
     "data": {
      "image/png": "[encoded data removed]",
      "text/plain": [
       "<Figure size 1200x600 with 1 Axes>"
      ]
     },
     "metadata": {},
     "output_type": "display_data"
    }
   ],
   "source": [
    "# Plot the results\n",
    "plt.figure(figsize=(12, 6))\n",
    "plt.plot(stock_data.index[seq_length:seq_length+len(y_train_actual)], y_train_actual, label='Actual Train')\n",
    "plt.plot(stock_data.index[seq_length:seq_length+len(y_train_actual)], train_predict, label='Predicted Train')\n",
    "plt.plot(stock_data.index[train_size+seq_length:], y_test_actual, label='Actual Test')\n",
    "plt.plot(stock_data.index[train_size+seq_length:], test_predict, label='Predicted Test')\n",
    "plt.legend()\n",
    "plt.xlabel('Date')\n",
    "plt.ylabel('Stock Price')\n",
    "plt.title('Stock Price Prediction using LSTM')\n",
    "plt.show()\n"
   ]
  },
  {
   "cell_type": "markdown",
   "id": "0b95469d",
   "metadata": {},
   "source": [
    "In conclusion, this code demonstrates the process of using an LSTM neural network to predict stock prices based on historical data. Keep in mind that stock price prediction is a complex task influenced by numerous factors, and the performance of such models can vary widely."
   ]
  }
 ],
 "metadata": {
  "kernelspec": {
   "display_name": "Python 3 (ipykernel)",
   "language": "python",
   "name": "python3"
  },
  "language_info": {
   "codemirror_mode": {
    "name": "ipython",
    "version": 3
   },
   "file_extension": ".py",
   "mimetype": "text/x-python",
   "name": "python",
   "nbconvert_exporter": "python",
   "pygments_lexer": "ipython3",
   "version": "3.9.13"
  }
 },
 "nbformat": 4,
 "nbformat_minor": 5
}
